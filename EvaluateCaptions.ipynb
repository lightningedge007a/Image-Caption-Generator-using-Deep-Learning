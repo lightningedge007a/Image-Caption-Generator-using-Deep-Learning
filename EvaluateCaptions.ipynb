{
 "cells": [
  {
   "cell_type": "code",
   "execution_count": 1,
   "metadata": {},
   "outputs": [
    {
     "name": "stdout",
     "output_type": "stream",
     "text": [
      "Python 3.6.8 :: Anaconda, Inc.\r\n"
     ]
    }
   ],
   "source": [
    "!python --version"
   ]
  },
  {
   "cell_type": "code",
   "execution_count": 2,
   "metadata": {},
   "outputs": [
    {
     "name": "stdout",
     "output_type": "stream",
     "text": [
      "EvaluateCaptions.ipynb\t ImgCap_V1_MLMastery   ImgCap_V4_VGG_vec\r\n",
      "ImagesWithCaption.ipynb  ImgCap_V2_ResNet_vec  ImgCap_V5_VGG\r\n",
      "ImgCap_V0\t\t ImgCap_V3_ResNet      MINOR_2_SEM_6\r\n"
     ]
    }
   ],
   "source": [
    "!ls"
   ]
  },
  {
   "cell_type": "code",
   "execution_count": 9,
   "metadata": {},
   "outputs": [],
   "source": [
    "import numpy as np\n",
    "import pickle\n",
    "from rouge import Rouge\n",
    "from nltk.translate.bleu_score import corpus_bleu\n",
    "from nltk.translate.gleu_score import corpus_gleu,sentence_gleu"
   ]
  },
  {
   "cell_type": "code",
   "execution_count": 4,
   "metadata": {},
   "outputs": [],
   "source": [
    "def rouge_avg(pred,act):\n",
    "    #hypo=pred[0]\n",
    "    hypo=pred\n",
    "    hypostr=''\n",
    "    for i in hypo:\n",
    "        hypostr+=i+' '\n",
    "\n",
    "    scorelist=[]\n",
    "    for cap in range(5):\n",
    "        #ref=act[0][cap]\n",
    "        ref=act[cap]\n",
    "        refstr=''\n",
    "        for i in ref:\n",
    "            refstr+=i+' '\n",
    "\n",
    "        rouge = Rouge()\n",
    "        scores = rouge.get_scores(hypostr, refstr)\n",
    "        scorelist.append(scores)\n",
    "    sl=scorelist\n",
    "    l=np.zeros(9)\n",
    "    \n",
    "    for i in range(5):\n",
    "        \n",
    "        l[0]+=sl[i][0]['rouge-1']['f']\n",
    "        l[1]+=sl[i][0]['rouge-1']['p']    \n",
    "        l[2]+=sl[i][0]['rouge-1']['r']    \n",
    "        l[3]+=sl[i][0]['rouge-2']['f']    \n",
    "        l[4]+=sl[i][0]['rouge-2']['p']    \n",
    "        l[5]+=sl[i][0]['rouge-2']['r']    \n",
    "        l[6]+=sl[i][0]['rouge-l']['f']    \n",
    "        l[7]+=sl[i][0]['rouge-l']['p']    \n",
    "        l[8]+=sl[i][0]['rouge-l']['r']    \n",
    "        \n",
    "    avgl=l/5\n",
    "    return avgl\n",
    "\n",
    "def rouge_max(pred,act):\n",
    "    #hypo=pred[0]\n",
    "    hypo=pred\n",
    "    hypostr=''\n",
    "    for i in hypo:\n",
    "        hypostr+=i+' '\n",
    "\n",
    "    scorelist=[]\n",
    "    for cap in range(5):\n",
    "        #ref=act[0][cap]\n",
    "        ref=act[cap]\n",
    "        refstr=''\n",
    "        for i in ref:\n",
    "            refstr+=i+' '\n",
    "\n",
    "        rouge = Rouge()\n",
    "        scores = rouge.get_scores(hypostr, refstr)\n",
    "        scorelist.append(scores)\n",
    "    sl=scorelist\n",
    "    #l=np.zeros(9)\n",
    "    #l=[np.zeros(5) for i in range(9)]\n",
    "    l=np.zeros((9,5))\n",
    "    \n",
    "    for i in range(5):\n",
    "        \n",
    "        l[0][i]=sl[i][0]['rouge-1']['f']\n",
    "        l[1][i]=sl[i][0]['rouge-1']['p']    \n",
    "        l[2][i]=sl[i][0]['rouge-1']['r']    \n",
    "        l[3][i]=sl[i][0]['rouge-2']['f']    \n",
    "        l[4][i]=sl[i][0]['rouge-2']['p']    \n",
    "        l[5][i]=sl[i][0]['rouge-2']['r']    \n",
    "        l[6][i]=sl[i][0]['rouge-l']['f']    \n",
    "        l[7][i]=sl[i][0]['rouge-l']['p']    \n",
    "        l[8][i]=sl[i][0]['rouge-l']['r']    \n",
    "        \n",
    "    #avgl=l/5\n",
    "    maxl=np.zeros(9)\n",
    "    for i in range(9):\n",
    "        maxl[i]=max(l[i])\n",
    "    return maxl\n",
    "\n",
    "def rouge_min(pred,act):\n",
    "    #hypo=pred[0]\n",
    "    hypo=pred\n",
    "    hypostr=''\n",
    "    for i in hypo:\n",
    "        hypostr+=i+' '\n",
    "\n",
    "    scorelist=[]\n",
    "    for cap in range(5):\n",
    "        #ref=act[0][cap]\n",
    "        ref=act[cap]\n",
    "        refstr=''\n",
    "        for i in ref:\n",
    "            refstr+=i+' '\n",
    "\n",
    "        rouge = Rouge()\n",
    "        scores = rouge.get_scores(hypostr, refstr)\n",
    "        scorelist.append(scores)\n",
    "    sl=scorelist\n",
    "    #l=np.zeros(9)\n",
    "    #l=[np.zeros(5) for i in range(9)]\n",
    "    l=np.zeros((9,5))\n",
    "    \n",
    "    for i in range(5):\n",
    "        \n",
    "        l[0][i]=sl[i][0]['rouge-1']['f']\n",
    "        l[1][i]=sl[i][0]['rouge-1']['p']    \n",
    "        l[2][i]=sl[i][0]['rouge-1']['r']    \n",
    "        l[3][i]=sl[i][0]['rouge-2']['f']    \n",
    "        l[4][i]=sl[i][0]['rouge-2']['p']    \n",
    "        l[5][i]=sl[i][0]['rouge-2']['r']    \n",
    "        l[6][i]=sl[i][0]['rouge-l']['f']    \n",
    "        l[7][i]=sl[i][0]['rouge-l']['p']    \n",
    "        l[8][i]=sl[i][0]['rouge-l']['r']    \n",
    "        \n",
    "    #avgl=l/5\n",
    "    minl=np.zeros(9)\n",
    "    for i in range(9):\n",
    "        minl[i]=min(l[i])\n",
    "    return minl"
   ]
  },
  {
   "cell_type": "code",
   "execution_count": null,
   "metadata": {},
   "outputs": [],
   "source": []
  },
  {
   "cell_type": "markdown",
   "metadata": {},
   "source": [
    "# InceptionResNetV2 with Fasttext"
   ]
  },
  {
   "cell_type": "markdown",
   "metadata": {},
   "source": [
    "## validation"
   ]
  },
  {
   "cell_type": "code",
   "execution_count": 5,
   "metadata": {},
   "outputs": [
    {
     "data": {
      "text/plain": [
       "(1000, 1000)"
      ]
     },
     "execution_count": 5,
     "metadata": {},
     "output_type": "execute_result"
    }
   ],
   "source": [
    "actual=pickle.load(open('ImgCap_V0/actual.pkl','rb'))\n",
    "predicted=pickle.load(open('ImgCap_V0/predicted.pkl','rb'))\n",
    "len(actual),len(predicted)"
   ]
  },
  {
   "cell_type": "code",
   "execution_count": 6,
   "metadata": {},
   "outputs": [
    {
     "name": "stdout",
     "output_type": "stream",
     "text": [
      "BLEU - 1 : 0.539671\n",
      "BLEU - 2 : 0.293452\n",
      "BLEU - 3 : 0.203698\n",
      "BLEU - 4 : 0.096276\n"
     ]
    }
   ],
   "source": [
    "print('BLEU - 1 : %f' % corpus_bleu(actual,predicted,weights=(1.0,0,0,0)))\n",
    "print('BLEU - 2 : %f' % corpus_bleu(actual,predicted,weights=(0.5,0.5,0,0)))\n",
    "print('BLEU - 3 : %f' % corpus_bleu(actual,predicted,weights=(0.3,0.3,0.3,0)))\n",
    "print('BLEU - 4 : %f' % corpus_bleu(actual,predicted,weights=(0.25,0.25,0.25,0.25)))"
   ]
  },
  {
   "cell_type": "code",
   "execution_count": 7,
   "metadata": {},
   "outputs": [
    {
     "name": "stdout",
     "output_type": "stream",
     "text": [
      "1000\n"
     ]
    },
    {
     "data": {
      "text/plain": [
       "array([0.45252394, 0.47777441, 0.47516233, 0.13459504, 0.14215377,\n",
       "       0.13762309, 0.41917751, 0.45416415, 0.46069004])"
      ]
     },
     "execution_count": 7,
     "metadata": {},
     "output_type": "execute_result"
    }
   ],
   "source": [
    "setlistmax=[]\n",
    "for i in range(len(predicted)):\n",
    "    setlistmax.append(rouge_max(predicted[i],actual[i]))\n",
    "print(len(setlistmax))\n",
    "finalrougemax =sum(setlistmax)\n",
    "frmax=finalrougemax/len(setlistmax)\n",
    "frmax"
   ]
  },
  {
   "cell_type": "code",
   "execution_count": 8,
   "metadata": {},
   "outputs": [
    {
     "name": "stdout",
     "output_type": "stream",
     "text": [
      "1000\n"
     ]
    },
    {
     "data": {
      "text/plain": [
       "array([0.2501242 , 0.26256575, 0.24169372, 0.00899983, 0.0104988 ,\n",
       "       0.00821281, 0.23044218, 0.25961427, 0.23447793])"
      ]
     },
     "execution_count": 8,
     "metadata": {},
     "output_type": "execute_result"
    }
   ],
   "source": [
    "setlistmin=[]\n",
    "for i in range(len(predicted)):\n",
    "    setlistmin.append(rouge_min(predicted[i],actual[i]))\n",
    "print(len(setlistmin))\n",
    "finalrougemin =sum(setlistmin)\n",
    "frmin=finalrougemin/len(setlistmin)\n",
    "frmin"
   ]
  },
  {
   "cell_type": "code",
   "execution_count": 9,
   "metadata": {},
   "outputs": [
    {
     "name": "stdout",
     "output_type": "stream",
     "text": [
      "1000\n"
     ]
    },
    {
     "data": {
      "text/plain": [
       "array([0.34661381, 0.36272649, 0.35065249, 0.05770147, 0.06196898,\n",
       "       0.05747813, 0.32015404, 0.35033221, 0.33941558])"
      ]
     },
     "execution_count": 9,
     "metadata": {},
     "output_type": "execute_result"
    }
   ],
   "source": [
    "setlistavg=[]\n",
    "for i in range(len(predicted)):\n",
    "    setlistavg.append(rouge_avg(predicted[i],actual[i]))\n",
    "print(len(setlistavg))\n",
    "finalrougeavg =sum(setlistavg)\n",
    "fravg=finalrougeavg/len(setlistavg)\n",
    "fravg"
   ]
  },
  {
   "cell_type": "code",
   "execution_count": 10,
   "metadata": {},
   "outputs": [
    {
     "data": {
      "text/plain": [
       "array([0.35132407, 0.37017008, 0.35842803, 0.07179743, 0.07632628,\n",
       "       0.07291795, 0.32480985, 0.35688921, 0.34758398])"
      ]
     },
     "execution_count": 10,
     "metadata": {},
     "output_type": "execute_result"
    }
   ],
   "source": [
    "minmaxavg=(frmin+frmax)/2\n",
    "minmaxavg"
   ]
  },
  {
   "cell_type": "code",
   "execution_count": null,
   "metadata": {},
   "outputs": [],
   "source": []
  },
  {
   "cell_type": "code",
   "execution_count": null,
   "metadata": {},
   "outputs": [],
   "source": []
  },
  {
   "cell_type": "code",
   "execution_count": 11,
   "metadata": {},
   "outputs": [],
   "source": [
    "def printrouge(arr):\n",
    "    l=['' for i in range(9)]\n",
    "    l[0]='rouge-1 f'\n",
    "    l[1]='rouge-1 p'    \n",
    "    l[2]='rouge-1 r'\n",
    "    l[3]='rouge-2 f'    \n",
    "    l[4]='rouge-2 p'    \n",
    "    l[5]='rouge-2 r'\n",
    "    l[6]='rouge-l f'\n",
    "    l[7]='rouge-l p'\n",
    "    l[8]='rouge-l r'\n",
    "    \n",
    "    for i in range(9):\n",
    "        print(l[i],' --> ',arr[i])"
   ]
  },
  {
   "cell_type": "code",
   "execution_count": 12,
   "metadata": {},
   "outputs": [
    {
     "name": "stdout",
     "output_type": "stream",
     "text": [
      "rouge-1 f  -->  0.4525239386952361\n",
      "rouge-1 p  -->  0.47777440859793757\n",
      "rouge-1 r  -->  0.4751623340024262\n",
      "rouge-2 f  -->  0.1345950355753031\n",
      "rouge-2 p  -->  0.14215377318330116\n",
      "rouge-2 r  -->  0.13762309286561564\n",
      "rouge-l f  -->  0.4191775106474262\n",
      "rouge-l p  -->  0.4541641548810666\n",
      "rouge-l r  -->  0.4606900377271501\n"
     ]
    }
   ],
   "source": [
    "printrouge(frmax)"
   ]
  },
  {
   "cell_type": "code",
   "execution_count": 13,
   "metadata": {},
   "outputs": [
    {
     "name": "stdout",
     "output_type": "stream",
     "text": [
      "rouge-1 f  -->  0.25012420477380287\n",
      "rouge-1 p  -->  0.26256574634515967\n",
      "rouge-1 r  -->  0.24169372036827672\n",
      "rouge-2 f  -->  0.008999827112244823\n",
      "rouge-2 p  -->  0.010498795648795644\n",
      "rouge-2 r  -->  0.008212813379431019\n",
      "rouge-l f  -->  0.23044218246640658\n",
      "rouge-l p  -->  0.25961426865618203\n",
      "rouge-l r  -->  0.23447792523003572\n"
     ]
    }
   ],
   "source": [
    "printrouge(frmin)"
   ]
  },
  {
   "cell_type": "code",
   "execution_count": 14,
   "metadata": {},
   "outputs": [
    {
     "name": "stdout",
     "output_type": "stream",
     "text": [
      "rouge-1 f  -->  0.34661380933471575\n",
      "rouge-1 p  -->  0.36272648622619263\n",
      "rouge-1 r  -->  0.3506524933963398\n",
      "rouge-2 f  -->  0.05770147264007184\n",
      "rouge-2 p  -->  0.06196898243397488\n",
      "rouge-2 r  -->  0.057478130135159344\n",
      "rouge-l f  -->  0.3201540393262862\n",
      "rouge-l p  -->  0.3503322122975068\n",
      "rouge-l r  -->  0.33941558403435806\n"
     ]
    }
   ],
   "source": [
    "printrouge(fravg)"
   ]
  },
  {
   "cell_type": "markdown",
   "metadata": {},
   "source": [
    "## test"
   ]
  },
  {
   "cell_type": "code",
   "execution_count": 16,
   "metadata": {},
   "outputs": [
    {
     "name": "stdout",
     "output_type": "stream",
     "text": [
      "1000 1000\n",
      "\n",
      "BLEU - 1 : 0.548384\n",
      "BLEU - 2 : 0.306833\n",
      "BLEU - 3 : 0.213625\n",
      "BLEU - 4 : 0.103650\n",
      "\n",
      "max\n",
      "\n",
      "rouge-1 f  -->  0.4624803486039034\n",
      "rouge-1 p  -->  0.48812131699999306\n",
      "rouge-1 r  -->  0.4860838679852995\n",
      "rouge-2 f  -->  0.14525472241680532\n",
      "rouge-2 p  -->  0.1512867924516145\n",
      "rouge-2 r  -->  0.14984904297915155\n",
      "rouge-l f  -->  0.43118846871737243\n",
      "rouge-l p  -->  0.4646600222489923\n",
      "rouge-l r  -->  0.4724997299011614\n",
      "\n",
      "min\n",
      "\n",
      "rouge-1 f  -->  0.25518982933884565\n",
      "rouge-1 p  -->  0.26721383698001505\n",
      "rouge-1 r  -->  0.24672515610035056\n",
      "rouge-2 f  -->  0.009320750473997289\n",
      "rouge-2 p  -->  0.01086065780624604\n",
      "rouge-2 r  -->  0.008425656593148846\n",
      "rouge-l f  -->  0.23491819231621058\n",
      "rouge-l p  -->  0.2643025787937569\n",
      "rouge-l r  -->  0.23922741761019706\n",
      "\n",
      "avg\n",
      "\n",
      "rouge-1 f  -->  0.3531856663364575\n",
      "rouge-1 p  -->  0.3692813179794065\n",
      "rouge-1 r  -->  0.3573926099388518\n",
      "rouge-2 f  -->  0.06199432651474956\n",
      "rouge-2 p  -->  0.06627795275673773\n",
      "rouge-2 r  -->  0.06183210630412235\n",
      "rouge-l f  -->  0.3264658434446139\n",
      "rouge-l p  -->  0.3568438974913978\n",
      "rouge-l r  -->  0.34589343429366254\n"
     ]
    }
   ],
   "source": [
    "actual=pickle.load(open('ImgCap_V2_ResNet_vec/actual2.pkl','rb'))\n",
    "predicted=pickle.load(open('ImgCap_V2_ResNet_vec/predicted2.pkl','rb'))\n",
    "print(len(actual),len(predicted))\n",
    "print()\n",
    "print('BLEU - 1 : %f' % corpus_bleu(actual,predicted,weights=(1.0,0,0,0)))\n",
    "print('BLEU - 2 : %f' % corpus_bleu(actual,predicted,weights=(0.5,0.5,0,0)))\n",
    "print('BLEU - 3 : %f' % corpus_bleu(actual,predicted,weights=(0.3,0.3,0.3,0)))\n",
    "print('BLEU - 4 : %f' % corpus_bleu(actual,predicted,weights=(0.25,0.25,0.25,0.25)))\n",
    "\n",
    "setlistmax=[]\n",
    "for i in range(len(predicted)):\n",
    "    setlistmax.append(rouge_max(predicted[i],actual[i]))\n",
    "#print(len(setlistmax))\n",
    "finalrougemax =sum(setlistmax)\n",
    "frmax=finalrougemax/len(setlistmax)\n",
    "print('\\nmax\\n')\n",
    "printrouge(frmax)\n",
    "\n",
    "setlistmin=[]\n",
    "for i in range(len(predicted)):\n",
    "    setlistmin.append(rouge_min(predicted[i],actual[i]))\n",
    "#print(len(setlistmin))\n",
    "finalrougemin =sum(setlistmin)\n",
    "frmin=finalrougemin/len(setlistmin)\n",
    "print('\\nmin\\n')\n",
    "printrouge(frmin)\n",
    "\n",
    "setlistavg=[]\n",
    "for i in range(len(predicted)):\n",
    "    setlistavg.append(rouge_avg(predicted[i],actual[i]))\n",
    "#print(len(setlistavg))\n",
    "finalrougeavg =sum(setlistavg)\n",
    "fravg=finalrougeavg/len(setlistavg)\n",
    "print('\\navg\\n')\n",
    "printrouge(fravg)"
   ]
  },
  {
   "cell_type": "code",
   "execution_count": null,
   "metadata": {},
   "outputs": [],
   "source": []
  },
  {
   "cell_type": "code",
   "execution_count": null,
   "metadata": {},
   "outputs": [],
   "source": []
  },
  {
   "cell_type": "markdown",
   "metadata": {},
   "source": [
    "## train"
   ]
  },
  {
   "cell_type": "code",
   "execution_count": 17,
   "metadata": {},
   "outputs": [
    {
     "name": "stdout",
     "output_type": "stream",
     "text": [
      "6000 6000\n",
      "\n",
      "BLEU - 1 : 0.547827\n",
      "BLEU - 2 : 0.307524\n",
      "BLEU - 3 : 0.215886\n",
      "BLEU - 4 : 0.104762\n",
      "\n",
      "max\n",
      "\n",
      "rouge-1 f  -->  0.4619488096311707\n",
      "rouge-1 p  -->  0.4858499956470576\n",
      "rouge-1 r  -->  0.4869803961551391\n",
      "rouge-2 f  -->  0.14653204241996978\n",
      "rouge-2 p  -->  0.1524539222380381\n",
      "rouge-2 r  -->  0.1511347221397142\n",
      "rouge-l f  -->  0.4306826524362379\n",
      "rouge-l p  -->  0.4631111953814205\n",
      "rouge-l r  -->  0.4731002942261881\n",
      "\n",
      "min\n",
      "\n",
      "rouge-1 f  -->  0.25661002072130895\n",
      "rouge-1 p  -->  0.2685060674619483\n",
      "rouge-1 r  -->  0.24870307202109568\n",
      "rouge-2 f  -->  0.009915337684458243\n",
      "rouge-2 p  -->  0.011461589988815277\n",
      "rouge-2 r  -->  0.009108597173922135\n",
      "rouge-l f  -->  0.23676887418006345\n",
      "rouge-l p  -->  0.2658317780803059\n",
      "rouge-l r  -->  0.24129528783575988\n",
      "\n",
      "avg\n",
      "\n",
      "rouge-1 f  -->  0.354207557220296\n",
      "rouge-1 p  -->  0.36929250875214426\n",
      "rouge-1 r  -->  0.35882844336348674\n",
      "rouge-2 f  -->  0.0635112611945313\n",
      "rouge-2 p  -->  0.06769055561712758\n",
      "rouge-2 r  -->  0.0636104929149472\n",
      "rouge-l f  -->  0.32829660331356736\n",
      "rouge-l p  -->  0.3573922113806685\n",
      "rouge-l r  -->  0.34783930628942933\n"
     ]
    }
   ],
   "source": [
    "actual=pickle.load(open('ImgCap_V2_ResNet_vec/actual3.pkl','rb'))\n",
    "predicted=pickle.load(open('ImgCap_V2_ResNet_vec/predicted3.pkl','rb'))\n",
    "print(len(actual),len(predicted))\n",
    "print()\n",
    "print('BLEU - 1 : %f' % corpus_bleu(actual,predicted,weights=(1.0,0,0,0)))\n",
    "print('BLEU - 2 : %f' % corpus_bleu(actual,predicted,weights=(0.5,0.5,0,0)))\n",
    "print('BLEU - 3 : %f' % corpus_bleu(actual,predicted,weights=(0.3,0.3,0.3,0)))\n",
    "print('BLEU - 4 : %f' % corpus_bleu(actual,predicted,weights=(0.25,0.25,0.25,0.25)))\n",
    "\n",
    "setlistmax=[]\n",
    "for i in range(len(predicted)):\n",
    "    setlistmax.append(rouge_max(predicted[i],actual[i]))\n",
    "#print(len(setlistmax))\n",
    "finalrougemax =sum(setlistmax)\n",
    "frmax=finalrougemax/len(setlistmax)\n",
    "print('\\nmax\\n')\n",
    "printrouge(frmax)\n",
    "\n",
    "setlistmin=[]\n",
    "for i in range(len(predicted)):\n",
    "    setlistmin.append(rouge_min(predicted[i],actual[i]))\n",
    "#print(len(setlistmin))\n",
    "finalrougemin =sum(setlistmin)\n",
    "frmin=finalrougemin/len(setlistmin)\n",
    "print('\\nmin\\n')\n",
    "printrouge(frmin)\n",
    "\n",
    "setlistavg=[]\n",
    "for i in range(len(predicted)):\n",
    "    setlistavg.append(rouge_avg(predicted[i],actual[i]))\n",
    "#print(len(setlistavg))\n",
    "finalrougeavg =sum(setlistavg)\n",
    "fravg=finalrougeavg/len(setlistavg)\n",
    "print('\\navg\\n')\n",
    "printrouge(fravg)"
   ]
  },
  {
   "cell_type": "code",
   "execution_count": null,
   "metadata": {},
   "outputs": [],
   "source": []
  },
  {
   "cell_type": "markdown",
   "metadata": {},
   "source": [
    "# InceptionResNetV2"
   ]
  },
  {
   "cell_type": "markdown",
   "metadata": {},
   "source": [
    "## validation"
   ]
  },
  {
   "cell_type": "code",
   "execution_count": 18,
   "metadata": {},
   "outputs": [
    {
     "name": "stdout",
     "output_type": "stream",
     "text": [
      "1000 1000\n",
      "\n",
      "BLEU - 1 : 0.411673\n",
      "BLEU - 2 : 0.223612\n",
      "BLEU - 3 : 0.153555\n",
      "BLEU - 4 : 0.068918\n",
      "\n",
      "max\n",
      "\n",
      "rouge-1 f  -->  0.4507953383443884\n",
      "rouge-1 p  -->  0.49930665445665434\n",
      "rouge-1 r  -->  0.45273262374020845\n",
      "rouge-2 f  -->  0.13173527420722472\n",
      "rouge-2 p  -->  0.14511459651459668\n",
      "rouge-2 r  -->  0.12959921084591397\n",
      "rouge-l f  -->  0.41737407390287024\n",
      "rouge-l p  -->  0.4766755994005992\n",
      "rouge-l r  -->  0.4398182340578233\n",
      "\n",
      "min\n",
      "\n",
      "rouge-1 f  -->  0.24685129083910654\n",
      "rouge-1 p  -->  0.2712100732600741\n",
      "rouge-1 r  -->  0.22997491238265336\n",
      "rouge-2 f  -->  0.008589291104826022\n",
      "rouge-2 p  -->  0.010078843378843376\n",
      "rouge-2 r  -->  0.007697336734734427\n",
      "rouge-l f  -->  0.22767304535339938\n",
      "rouge-l p  -->  0.26961912254412335\n",
      "rouge-l r  -->  0.2246585914916421\n",
      "\n",
      "avg\n",
      "\n",
      "rouge-1 f  -->  0.34430631641581233\n",
      "rouge-1 p  -->  0.37648937950937983\n",
      "rouge-1 r  -->  0.33455698520041094\n",
      "rouge-2 f  -->  0.05649370779358377\n",
      "rouge-2 p  -->  0.06305845987345998\n",
      "rouge-2 r  -->  0.05422343813967629\n",
      "rouge-l f  -->  0.31814060216207124\n",
      "rouge-l p  -->  0.36516824120324104\n",
      "rouge-l r  -->  0.32513230811966587\n"
     ]
    }
   ],
   "source": [
    "actual=pickle.load(open('ImgCap_V3_ResNet/actual_validtn.pkl','rb'))\n",
    "predicted=pickle.load(open('ImgCap_V3_ResNet/predicted_validtn.pkl','rb'))\n",
    "print(len(actual),len(predicted))\n",
    "print()\n",
    "print('BLEU - 1 : %f' % corpus_bleu(actual,predicted,weights=(1.0,0,0,0)))\n",
    "print('BLEU - 2 : %f' % corpus_bleu(actual,predicted,weights=(0.5,0.5,0,0)))\n",
    "print('BLEU - 3 : %f' % corpus_bleu(actual,predicted,weights=(0.3,0.3,0.3,0)))\n",
    "print('BLEU - 4 : %f' % corpus_bleu(actual,predicted,weights=(0.25,0.25,0.25,0.25)))\n",
    "\n",
    "setlistmax=[]\n",
    "for i in range(len(predicted)):\n",
    "    setlistmax.append(rouge_max(predicted[i],actual[i]))\n",
    "#print(len(setlistmax))\n",
    "finalrougemax =sum(setlistmax)\n",
    "frmax=finalrougemax/len(setlistmax)\n",
    "print('\\nmax\\n')\n",
    "printrouge(frmax)\n",
    "\n",
    "setlistmin=[]\n",
    "for i in range(len(predicted)):\n",
    "    setlistmin.append(rouge_min(predicted[i],actual[i]))\n",
    "#print(len(setlistmin))\n",
    "finalrougemin =sum(setlistmin)\n",
    "frmin=finalrougemin/len(setlistmin)\n",
    "print('\\nmin\\n')\n",
    "printrouge(frmin)\n",
    "\n",
    "setlistavg=[]\n",
    "for i in range(len(predicted)):\n",
    "    setlistavg.append(rouge_avg(predicted[i],actual[i]))\n",
    "#print(len(setlistavg))\n",
    "finalrougeavg =sum(setlistavg)\n",
    "fravg=finalrougeavg/len(setlistavg)\n",
    "print('\\navg\\n')\n",
    "printrouge(fravg)"
   ]
  },
  {
   "cell_type": "markdown",
   "metadata": {},
   "source": [
    "## test"
   ]
  },
  {
   "cell_type": "code",
   "execution_count": 19,
   "metadata": {},
   "outputs": [
    {
     "name": "stdout",
     "output_type": "stream",
     "text": [
      "1000 1000\n",
      "\n",
      "BLEU - 1 : 0.422588\n",
      "BLEU - 2 : 0.235717\n",
      "BLEU - 3 : 0.163521\n",
      "BLEU - 4 : 0.072335\n",
      "\n",
      "max\n",
      "\n",
      "rouge-1 f  -->  0.45747949429176243\n",
      "rouge-1 p  -->  0.502441552891553\n",
      "rouge-1 r  -->  0.46277664987661127\n",
      "rouge-2 f  -->  0.14083103642757872\n",
      "rouge-2 p  -->  0.151733426704015\n",
      "rouge-2 r  -->  0.14067245569474698\n",
      "rouge-l f  -->  0.4284166619519872\n",
      "rouge-l p  -->  0.4824505411255407\n",
      "rouge-l r  -->  0.4533763270784944\n",
      "\n",
      "min\n",
      "\n",
      "rouge-1 f  -->  0.2539295772047749\n",
      "rouge-1 p  -->  0.27618183205683305\n",
      "rouge-1 r  -->  0.23733214676190784\n",
      "rouge-2 f  -->  0.009213488185270723\n",
      "rouge-2 p  -->  0.0107762099012099\n",
      "rouge-2 r  -->  0.008377517335605567\n",
      "rouge-l f  -->  0.2342523216849833\n",
      "rouge-l p  -->  0.2740855616605626\n",
      "rouge-l r  -->  0.23079599718736796\n",
      "\n",
      "avg\n",
      "\n",
      "rouge-1 f  -->  0.34999258816208384\n",
      "rouge-1 p  -->  0.3814604390054395\n",
      "rouge-1 r  -->  0.34061260551133254\n",
      "rouge-2 f  -->  0.05944953299019661\n",
      "rouge-2 p  -->  0.06550353654515431\n",
      "rouge-2 r  -->  0.05773433717640173\n",
      "rouge-l f  -->  0.3240548844009533\n",
      "rouge-l p  -->  0.37031046176046195\n",
      "rouge-l r  -->  0.33137660264566315\n"
     ]
    }
   ],
   "source": [
    "actual=pickle.load(open('ImgCap_V3_ResNet/actual_test.pkl','rb'))\n",
    "predicted=pickle.load(open('ImgCap_V3_ResNet/predicted_test.pkl','rb'))\n",
    "print(len(actual),len(predicted))\n",
    "print()\n",
    "print('BLEU - 1 : %f' % corpus_bleu(actual,predicted,weights=(1.0,0,0,0)))\n",
    "print('BLEU - 2 : %f' % corpus_bleu(actual,predicted,weights=(0.5,0.5,0,0)))\n",
    "print('BLEU - 3 : %f' % corpus_bleu(actual,predicted,weights=(0.3,0.3,0.3,0)))\n",
    "print('BLEU - 4 : %f' % corpus_bleu(actual,predicted,weights=(0.25,0.25,0.25,0.25)))\n",
    "\n",
    "setlistmax=[]\n",
    "for i in range(len(predicted)):\n",
    "    setlistmax.append(rouge_max(predicted[i],actual[i]))\n",
    "#print(len(setlistmax))\n",
    "finalrougemax =sum(setlistmax)\n",
    "frmax=finalrougemax/len(setlistmax)\n",
    "print('\\nmax\\n')\n",
    "printrouge(frmax)\n",
    "\n",
    "setlistmin=[]\n",
    "for i in range(len(predicted)):\n",
    "    setlistmin.append(rouge_min(predicted[i],actual[i]))\n",
    "#print(len(setlistmin))\n",
    "finalrougemin =sum(setlistmin)\n",
    "frmin=finalrougemin/len(setlistmin)\n",
    "print('\\nmin\\n')\n",
    "printrouge(frmin)\n",
    "\n",
    "setlistavg=[]\n",
    "for i in range(len(predicted)):\n",
    "    setlistavg.append(rouge_avg(predicted[i],actual[i]))\n",
    "#print(len(setlistavg))\n",
    "finalrougeavg =sum(setlistavg)\n",
    "fravg=finalrougeavg/len(setlistavg)\n",
    "print('\\navg\\n')\n",
    "printrouge(fravg)"
   ]
  },
  {
   "cell_type": "markdown",
   "metadata": {},
   "source": [
    "## train"
   ]
  },
  {
   "cell_type": "code",
   "execution_count": 20,
   "metadata": {},
   "outputs": [
    {
     "name": "stdout",
     "output_type": "stream",
     "text": [
      "6000 6000\n",
      "\n",
      "BLEU - 1 : 0.413983\n",
      "BLEU - 2 : 0.230231\n",
      "BLEU - 3 : 0.162076\n",
      "BLEU - 4 : 0.073717\n",
      "\n",
      "max\n",
      "\n",
      "rouge-1 f  -->  0.4559023317531022\n",
      "rouge-1 p  -->  0.5034767556517589\n",
      "rouge-1 r  -->  0.4609052739350791\n",
      "rouge-2 f  -->  0.14107778673882235\n",
      "rouge-2 p  -->  0.15284935628097485\n",
      "rouge-2 r  -->  0.1403946188026276\n",
      "rouge-l f  -->  0.4253140160102693\n",
      "rouge-l p  -->  0.48260331150331526\n",
      "rouge-l r  -->  0.44973066317796384\n",
      "\n",
      "min\n",
      "\n",
      "rouge-1 f  -->  0.2530323813340199\n",
      "rouge-1 p  -->  0.27470090372590017\n",
      "rouge-1 r  -->  0.23670379536407313\n",
      "rouge-2 f  -->  0.009024490082182183\n",
      "rouge-2 p  -->  0.010646671846671897\n",
      "rouge-2 r  -->  0.008109715261773945\n",
      "rouge-l f  -->  0.23329802183067008\n",
      "rouge-l p  -->  0.2725229062604029\n",
      "rouge-l r  -->  0.23074311655790344\n",
      "\n",
      "avg\n",
      "\n",
      "rouge-1 f  -->  0.34943945861156417\n",
      "rouge-1 p  -->  0.3797765420227932\n",
      "rouge-1 r  -->  0.3410695891829077\n",
      "rouge-2 f  -->  0.06041237690834093\n",
      "rouge-2 p  -->  0.06663660071410149\n",
      "rouge-2 r  -->  0.05863799325057726\n",
      "rouge-l f  -->  0.3239180099757169\n",
      "rouge-l p  -->  0.36912220645095734\n",
      "rouge-l r  -->  0.33211860161234796\n"
     ]
    }
   ],
   "source": [
    "actual=pickle.load(open('ImgCap_V3_ResNet/actual_train.pkl','rb'))\n",
    "predicted=pickle.load(open('ImgCap_V3_ResNet/predicted_train.pkl','rb'))\n",
    "print(len(actual),len(predicted))\n",
    "print()\n",
    "print('BLEU - 1 : %f' % corpus_bleu(actual,predicted,weights=(1.0,0,0,0)))\n",
    "print('BLEU - 2 : %f' % corpus_bleu(actual,predicted,weights=(0.5,0.5,0,0)))\n",
    "print('BLEU - 3 : %f' % corpus_bleu(actual,predicted,weights=(0.3,0.3,0.3,0)))\n",
    "print('BLEU - 4 : %f' % corpus_bleu(actual,predicted,weights=(0.25,0.25,0.25,0.25)))\n",
    "\n",
    "setlistmax=[]\n",
    "for i in range(len(predicted)):\n",
    "    setlistmax.append(rouge_max(predicted[i],actual[i]))\n",
    "#print(len(setlistmax))\n",
    "finalrougemax =sum(setlistmax)\n",
    "frmax=finalrougemax/len(setlistmax)\n",
    "print('\\nmax\\n')\n",
    "printrouge(frmax)\n",
    "\n",
    "setlistmin=[]\n",
    "for i in range(len(predicted)):\n",
    "    setlistmin.append(rouge_min(predicted[i],actual[i]))\n",
    "#print(len(setlistmin))\n",
    "finalrougemin =sum(setlistmin)\n",
    "frmin=finalrougemin/len(setlistmin)\n",
    "print('\\nmin\\n')\n",
    "printrouge(frmin)\n",
    "\n",
    "setlistavg=[]\n",
    "for i in range(len(predicted)):\n",
    "    setlistavg.append(rouge_avg(predicted[i],actual[i]))\n",
    "#print(len(setlistavg))\n",
    "finalrougeavg =sum(setlistavg)\n",
    "fravg=finalrougeavg/len(setlistavg)\n",
    "print('\\navg\\n')\n",
    "printrouge(fravg)"
   ]
  },
  {
   "cell_type": "code",
   "execution_count": null,
   "metadata": {},
   "outputs": [],
   "source": []
  },
  {
   "cell_type": "markdown",
   "metadata": {},
   "source": [
    "# VGG16 with Fasttext"
   ]
  },
  {
   "cell_type": "markdown",
   "metadata": {},
   "source": [
    "## validation"
   ]
  },
  {
   "cell_type": "code",
   "execution_count": 21,
   "metadata": {},
   "outputs": [
    {
     "name": "stdout",
     "output_type": "stream",
     "text": [
      "1000 1000\n",
      "\n",
      "BLEU - 1 : 0.527834\n",
      "BLEU - 2 : 0.277858\n",
      "BLEU - 3 : 0.193462\n",
      "BLEU - 4 : 0.091846\n",
      "\n",
      "max\n",
      "\n",
      "rouge-1 f  -->  0.4446849065594658\n",
      "rouge-1 p  -->  0.46906860084359986\n",
      "rouge-1 r  -->  0.46618459341226337\n",
      "rouge-2 f  -->  0.12385793497163533\n",
      "rouge-2 p  -->  0.1299280921692689\n",
      "rouge-2 r  -->  0.1272835167268757\n",
      "rouge-l f  -->  0.414131576072327\n",
      "rouge-l p  -->  0.4471779151404147\n",
      "rouge-l r  -->  0.45331800895612795\n",
      "\n",
      "min\n",
      "\n",
      "rouge-1 f  -->  0.2505637342668432\n",
      "rouge-1 p  -->  0.2589467282717295\n",
      "rouge-1 r  -->  0.24350730343553637\n",
      "rouge-2 f  -->  0.007349858208002882\n",
      "rouge-2 p  -->  0.008445787545787547\n",
      "rouge-2 r  -->  0.006793431024599754\n",
      "rouge-l f  -->  0.23310905062796825\n",
      "rouge-l p  -->  0.25713376900877016\n",
      "rouge-l r  -->  0.2364687502139315\n",
      "\n",
      "avg\n",
      "\n",
      "rouge-1 f  -->  0.3416217865077551\n",
      "rouge-1 p  -->  0.3551571520146523\n",
      "rouge-1 r  -->  0.34563156384605154\n",
      "rouge-2 f  -->  0.051845529088174164\n",
      "rouge-2 p  -->  0.055391025134995824\n",
      "rouge-2 r  -->  0.051879556258090785\n",
      "rouge-l f  -->  0.3177027941636258\n",
      "rouge-l p  -->  0.34403887751137724\n",
      "rouge-l r  -->  0.3353722509060513\n"
     ]
    }
   ],
   "source": [
    "actual=pickle.load(open('ImgCap_V4_VGG_vec/actual_validtn.pkl','rb'))\n",
    "predicted=pickle.load(open('ImgCap_V4_VGG_vec/predicted_validtn.pkl','rb'))\n",
    "print(len(actual),len(predicted))\n",
    "print()\n",
    "print('BLEU - 1 : %f' % corpus_bleu(actual,predicted,weights=(1.0,0,0,0)))\n",
    "print('BLEU - 2 : %f' % corpus_bleu(actual,predicted,weights=(0.5,0.5,0,0)))\n",
    "print('BLEU - 3 : %f' % corpus_bleu(actual,predicted,weights=(0.3,0.3,0.3,0)))\n",
    "print('BLEU - 4 : %f' % corpus_bleu(actual,predicted,weights=(0.25,0.25,0.25,0.25)))\n",
    "\n",
    "setlistmax=[]\n",
    "for i in range(len(predicted)):\n",
    "    setlistmax.append(rouge_max(predicted[i],actual[i]))\n",
    "#print(len(setlistmax))\n",
    "finalrougemax =sum(setlistmax)\n",
    "frmax=finalrougemax/len(setlistmax)\n",
    "print('\\nmax\\n')\n",
    "printrouge(frmax)\n",
    "\n",
    "setlistmin=[]\n",
    "for i in range(len(predicted)):\n",
    "    setlistmin.append(rouge_min(predicted[i],actual[i]))\n",
    "#print(len(setlistmin))\n",
    "finalrougemin =sum(setlistmin)\n",
    "frmin=finalrougemin/len(setlistmin)\n",
    "print('\\nmin\\n')\n",
    "printrouge(frmin)\n",
    "\n",
    "setlistavg=[]\n",
    "for i in range(len(predicted)):\n",
    "    setlistavg.append(rouge_avg(predicted[i],actual[i]))\n",
    "#print(len(setlistavg))\n",
    "finalrougeavg =sum(setlistavg)\n",
    "fravg=finalrougeavg/len(setlistavg)\n",
    "print('\\navg\\n')\n",
    "printrouge(fravg)"
   ]
  },
  {
   "cell_type": "markdown",
   "metadata": {},
   "source": [
    "## test"
   ]
  },
  {
   "cell_type": "code",
   "execution_count": 22,
   "metadata": {},
   "outputs": [
    {
     "name": "stdout",
     "output_type": "stream",
     "text": [
      "1000 1000\n",
      "\n",
      "BLEU - 1 : 0.527234\n",
      "BLEU - 2 : 0.276132\n",
      "BLEU - 3 : 0.186770\n",
      "BLEU - 4 : 0.082055\n",
      "\n",
      "max\n",
      "\n",
      "rouge-1 f  -->  0.4426602528084306\n",
      "rouge-1 p  -->  0.46779059829059805\n",
      "rouge-1 r  -->  0.4634395481969009\n",
      "rouge-2 f  -->  0.1206922535786308\n",
      "rouge-2 p  -->  0.12610330919080964\n",
      "rouge-2 r  -->  0.1239340382184038\n",
      "rouge-l f  -->  0.4132719534206428\n",
      "rouge-l p  -->  0.4453715950715948\n",
      "rouge-l r  -->  0.4519066139742611\n",
      "\n",
      "min\n",
      "\n",
      "rouge-1 f  -->  0.24971020151598589\n",
      "rouge-1 p  -->  0.2603996003996016\n",
      "rouge-1 r  -->  0.241354437650414\n",
      "rouge-2 f  -->  0.007089532801356564\n",
      "rouge-2 p  -->  0.008019516594516591\n",
      "rouge-2 r  -->  0.00659908645276292\n",
      "rouge-l f  -->  0.2329040922907665\n",
      "rouge-l p  -->  0.2587826479076491\n",
      "rouge-l r  -->  0.23504234657671294\n",
      "\n",
      "avg\n",
      "\n",
      "rouge-1 f  -->  0.34186128957310297\n",
      "rouge-1 p  -->  0.35723604978354967\n",
      "rouge-1 r  -->  0.3442156001526276\n",
      "rouge-2 f  -->  0.05001138269574386\n",
      "rouge-2 p  -->  0.05377725219225224\n",
      "rouge-2 r  -->  0.04971431600874254\n",
      "rouge-l f  -->  0.3179600539904673\n",
      "rouge-l p  -->  0.3462107484182484\n",
      "rouge-l r  -->  0.3341856721529246\n"
     ]
    }
   ],
   "source": [
    "actual=pickle.load(open('ImgCap_V4_VGG_vec/actual_test.pkl','rb'))\n",
    "predicted=pickle.load(open('ImgCap_V4_VGG_vec/predicted_test.pkl','rb'))\n",
    "print(len(actual),len(predicted))\n",
    "print()\n",
    "print('BLEU - 1 : %f' % corpus_bleu(actual,predicted,weights=(1.0,0,0,0)))\n",
    "print('BLEU - 2 : %f' % corpus_bleu(actual,predicted,weights=(0.5,0.5,0,0)))\n",
    "print('BLEU - 3 : %f' % corpus_bleu(actual,predicted,weights=(0.3,0.3,0.3,0)))\n",
    "print('BLEU - 4 : %f' % corpus_bleu(actual,predicted,weights=(0.25,0.25,0.25,0.25)))\n",
    "\n",
    "setlistmax=[]\n",
    "for i in range(len(predicted)):\n",
    "    setlistmax.append(rouge_max(predicted[i],actual[i]))\n",
    "#print(len(setlistmax))\n",
    "finalrougemax =sum(setlistmax)\n",
    "frmax=finalrougemax/len(setlistmax)\n",
    "print('\\nmax\\n')\n",
    "printrouge(frmax)\n",
    "\n",
    "setlistmin=[]\n",
    "for i in range(len(predicted)):\n",
    "    setlistmin.append(rouge_min(predicted[i],actual[i]))\n",
    "#print(len(setlistmin))\n",
    "finalrougemin =sum(setlistmin)\n",
    "frmin=finalrougemin/len(setlistmin)\n",
    "print('\\nmin\\n')\n",
    "printrouge(frmin)\n",
    "\n",
    "setlistavg=[]\n",
    "for i in range(len(predicted)):\n",
    "    setlistavg.append(rouge_avg(predicted[i],actual[i]))\n",
    "#print(len(setlistavg))\n",
    "finalrougeavg =sum(setlistavg)\n",
    "fravg=finalrougeavg/len(setlistavg)\n",
    "print('\\navg\\n')\n",
    "printrouge(fravg)"
   ]
  },
  {
   "cell_type": "markdown",
   "metadata": {},
   "source": [
    "## train"
   ]
  },
  {
   "cell_type": "code",
   "execution_count": 23,
   "metadata": {},
   "outputs": [
    {
     "name": "stdout",
     "output_type": "stream",
     "text": [
      "6000 6000\n",
      "\n",
      "BLEU - 1 : 0.529959\n",
      "BLEU - 2 : 0.285330\n",
      "BLEU - 3 : 0.198528\n",
      "BLEU - 4 : 0.093252\n",
      "\n",
      "max\n",
      "\n",
      "rouge-1 f  -->  0.4481449940013579\n",
      "rouge-1 p  -->  0.4742342388956407\n",
      "rouge-1 r  -->  0.46973886586553304\n",
      "rouge-2 f  -->  0.12802165381621203\n",
      "rouge-2 p  -->  0.13433476652704596\n",
      "rouge-2 r  -->  0.13139012770603567\n",
      "rouge-l f  -->  0.41799352880442997\n",
      "rouge-l p  -->  0.45204484696948355\n",
      "rouge-l r  -->  0.4571182651922697\n",
      "\n",
      "min\n",
      "\n",
      "rouge-1 f  -->  0.2526119952816969\n",
      "rouge-1 p  -->  0.26280227352984353\n",
      "rouge-1 r  -->  0.24407250267451608\n",
      "rouge-2 f  -->  0.008509748668408179\n",
      "rouge-2 p  -->  0.00966941322566326\n",
      "rouge-2 r  -->  0.00789227252498064\n",
      "rouge-l f  -->  0.23501393768575252\n",
      "rouge-l p  -->  0.26055728079110085\n",
      "rouge-l r  -->  0.2378261620038506\n",
      "\n",
      "avg\n",
      "\n",
      "rouge-1 f  -->  0.34556538730910114\n",
      "rouge-1 p  -->  0.3599835848682904\n",
      "rouge-1 r  -->  0.3490557420872719\n",
      "rouge-2 f  -->  0.05469556044225476\n",
      "rouge-2 p  -->  0.05835756397197605\n",
      "rouge-2 r  -->  0.054698277856489196\n",
      "rouge-l f  -->  0.32165799978861714\n",
      "rouge-l p  -->  0.349102205030806\n",
      "rouge-l r  -->  0.3390102393941294\n"
     ]
    }
   ],
   "source": [
    "actual=pickle.load(open('ImgCap_V4_VGG_vec/actual_train.pkl','rb'))\n",
    "predicted=pickle.load(open('ImgCap_V4_VGG_vec/predicted_train.pkl','rb'))\n",
    "print(len(actual),len(predicted))\n",
    "print()\n",
    "print('BLEU - 1 : %f' % corpus_bleu(actual,predicted,weights=(1.0,0,0,0)))\n",
    "print('BLEU - 2 : %f' % corpus_bleu(actual,predicted,weights=(0.5,0.5,0,0)))\n",
    "print('BLEU - 3 : %f' % corpus_bleu(actual,predicted,weights=(0.3,0.3,0.3,0)))\n",
    "print('BLEU - 4 : %f' % corpus_bleu(actual,predicted,weights=(0.25,0.25,0.25,0.25)))\n",
    "\n",
    "setlistmax=[]\n",
    "for i in range(len(predicted)):\n",
    "    setlistmax.append(rouge_max(predicted[i],actual[i]))\n",
    "#print(len(setlistmax))\n",
    "finalrougemax =sum(setlistmax)\n",
    "frmax=finalrougemax/len(setlistmax)\n",
    "print('\\nmax\\n')\n",
    "printrouge(frmax)\n",
    "\n",
    "setlistmin=[]\n",
    "for i in range(len(predicted)):\n",
    "    setlistmin.append(rouge_min(predicted[i],actual[i]))\n",
    "#print(len(setlistmin))\n",
    "finalrougemin =sum(setlistmin)\n",
    "frmin=finalrougemin/len(setlistmin)\n",
    "print('\\nmin\\n')\n",
    "printrouge(frmin)\n",
    "\n",
    "setlistavg=[]\n",
    "for i in range(len(predicted)):\n",
    "    setlistavg.append(rouge_avg(predicted[i],actual[i]))\n",
    "#print(len(setlistavg))\n",
    "finalrougeavg =sum(setlistavg)\n",
    "fravg=finalrougeavg/len(setlistavg)\n",
    "print('\\navg\\n')\n",
    "printrouge(fravg)"
   ]
  },
  {
   "cell_type": "markdown",
   "metadata": {},
   "source": [
    "# VGG16"
   ]
  },
  {
   "cell_type": "markdown",
   "metadata": {},
   "source": [
    "## validation"
   ]
  },
  {
   "cell_type": "code",
   "execution_count": 26,
   "metadata": {},
   "outputs": [
    {
     "name": "stdout",
     "output_type": "stream",
     "text": [
      "1000 1000\n",
      "\n",
      "BLEU - 1 : 0.483710\n",
      "BLEU - 2 : 0.244437\n",
      "BLEU - 3 : 0.164638\n",
      "BLEU - 4 : 0.073413\n",
      "\n",
      "max\n",
      "\n",
      "rouge-1 f  -->  0.43200569606111705\n",
      "rouge-1 p  -->  0.4486153718830186\n",
      "rouge-1 r  -->  0.46583581156545506\n",
      "rouge-2 f  -->  0.1166146784301684\n",
      "rouge-2 p  -->  0.12182633053221298\n",
      "rouge-2 r  -->  0.12203029086628633\n",
      "rouge-l f  -->  0.39824697356553385\n",
      "rouge-l p  -->  0.425989745385333\n",
      "rouge-l r  -->  0.4515220364559759\n",
      "\n",
      "min\n",
      "\n",
      "rouge-1 f  -->  0.2434037527881582\n",
      "rouge-1 p  -->  0.24640775580628654\n",
      "rouge-1 r  -->  0.24588343679080935\n",
      "rouge-2 f  -->  0.007154386901722444\n",
      "rouge-2 p  -->  0.008200511906394264\n",
      "rouge-2 r  -->  0.0067608955331397765\n",
      "rouge-l f  -->  0.2235753714969846\n",
      "rouge-l p  -->  0.2444421968554335\n",
      "rouge-l r  -->  0.2382473776386898\n",
      "\n",
      "avg\n",
      "\n",
      "rouge-1 f  -->  0.33361885642784045\n",
      "rouge-1 p  -->  0.33957737115825387\n",
      "rouge-1 r  -->  0.34978893447038145\n",
      "rouge-2 f  -->  0.04873904478543653\n",
      "rouge-2 p  -->  0.05172667541608738\n",
      "rouge-2 r  -->  0.04970483488560209\n",
      "rouge-l f  -->  0.3063116741922885\n",
      "rouge-l p  -->  0.32810452524599615\n",
      "rouge-l r  -->  0.33815837542468047\n"
     ]
    }
   ],
   "source": [
    "actual=pickle.load(open('ImgCap_V5_VGG/actual_validtn.pkl','rb'))\n",
    "predicted=pickle.load(open('ImgCap_V5_VGG/predicted_validtn.pkl','rb'))\n",
    "print(len(actual),len(predicted))\n",
    "print()\n",
    "print('BLEU - 1 : %f' % corpus_bleu(actual,predicted,weights=(1.0,0,0,0)))\n",
    "print('BLEU - 2 : %f' % corpus_bleu(actual,predicted,weights=(0.5,0.5,0,0)))\n",
    "print('BLEU - 3 : %f' % corpus_bleu(actual,predicted,weights=(0.3,0.3,0.3,0)))\n",
    "print('BLEU - 4 : %f' % corpus_bleu(actual,predicted,weights=(0.25,0.25,0.25,0.25)))\n",
    "\n",
    "setlistmax=[]\n",
    "for i in range(len(predicted)):\n",
    "    setlistmax.append(rouge_max(predicted[i],actual[i]))\n",
    "#print(len(setlistmax))\n",
    "finalrougemax =sum(setlistmax)\n",
    "frmax=finalrougemax/len(setlistmax)\n",
    "print('\\nmax\\n')\n",
    "printrouge(frmax)\n",
    "\n",
    "setlistmin=[]\n",
    "for i in range(len(predicted)):\n",
    "    setlistmin.append(rouge_min(predicted[i],actual[i]))\n",
    "#print(len(setlistmin))\n",
    "finalrougemin =sum(setlistmin)\n",
    "frmin=finalrougemin/len(setlistmin)\n",
    "print('\\nmin\\n')\n",
    "printrouge(frmin)\n",
    "\n",
    "setlistavg=[]\n",
    "for i in range(len(predicted)):\n",
    "    setlistavg.append(rouge_avg(predicted[i],actual[i]))\n",
    "#print(len(setlistavg))\n",
    "finalrougeavg =sum(setlistavg)\n",
    "fravg=finalrougeavg/len(setlistavg)\n",
    "print('\\navg\\n')\n",
    "printrouge(fravg)"
   ]
  },
  {
   "cell_type": "markdown",
   "metadata": {},
   "source": [
    "## test"
   ]
  },
  {
   "cell_type": "code",
   "execution_count": 27,
   "metadata": {},
   "outputs": [
    {
     "name": "stdout",
     "output_type": "stream",
     "text": [
      "1000 1000\n",
      "\n",
      "BLEU - 1 : 0.492268\n",
      "BLEU - 2 : 0.253989\n",
      "BLEU - 3 : 0.168221\n",
      "BLEU - 4 : 0.069616\n",
      "\n",
      "max\n",
      "\n",
      "rouge-1 f  -->  0.4439370756176144\n",
      "rouge-1 p  -->  0.4615903774330249\n",
      "rouge-1 r  -->  0.4787691352275177\n",
      "rouge-2 f  -->  0.12503257795502282\n",
      "rouge-2 p  -->  0.12980489828798672\n",
      "rouge-2 r  -->  0.13104469692244505\n",
      "rouge-l f  -->  0.4095245274634008\n",
      "rouge-l p  -->  0.4372951713319362\n",
      "rouge-l r  -->  0.46472994268803114\n",
      "\n",
      "min\n",
      "\n",
      "rouge-1 f  -->  0.2481328108332503\n",
      "rouge-1 p  -->  0.2539601354527836\n",
      "rouge-1 r  -->  0.24883256260853148\n",
      "rouge-2 f  -->  0.007111116280866235\n",
      "rouge-2 p  -->  0.008272118241235886\n",
      "rouge-2 r  -->  0.006580954584631051\n",
      "rouge-l f  -->  0.2282690334742405\n",
      "rouge-l p  -->  0.2523844670035858\n",
      "rouge-l r  -->  0.2416371181407184\n",
      "\n",
      "avg\n",
      "\n",
      "rouge-1 f  -->  0.34060673336420466\n",
      "rouge-1 p  -->  0.34846123908770993\n",
      "rouge-1 r  -->  0.3552434513442063\n",
      "rouge-2 f  -->  0.05251160329159693\n",
      "rouge-2 p  -->  0.05584605123634561\n",
      "rouge-2 r  -->  0.053380248259057336\n",
      "rouge-l f  -->  0.31305487384593816\n",
      "rouge-l p  -->  0.3370844273373691\n",
      "rouge-l r  -->  0.34373448545308527\n"
     ]
    }
   ],
   "source": [
    "actual=pickle.load(open('ImgCap_V5_VGG/actual_test.pkl','rb'))\n",
    "predicted=pickle.load(open('ImgCap_V5_VGG/predicted_test.pkl','rb'))\n",
    "print(len(actual),len(predicted))\n",
    "print()\n",
    "print('BLEU - 1 : %f' % corpus_bleu(actual,predicted,weights=(1.0,0,0,0)))\n",
    "print('BLEU - 2 : %f' % corpus_bleu(actual,predicted,weights=(0.5,0.5,0,0)))\n",
    "print('BLEU - 3 : %f' % corpus_bleu(actual,predicted,weights=(0.3,0.3,0.3,0)))\n",
    "print('BLEU - 4 : %f' % corpus_bleu(actual,predicted,weights=(0.25,0.25,0.25,0.25)))\n",
    "\n",
    "setlistmax=[]\n",
    "for i in range(len(predicted)):\n",
    "    setlistmax.append(rouge_max(predicted[i],actual[i]))\n",
    "#print(len(setlistmax))\n",
    "finalrougemax =sum(setlistmax)\n",
    "frmax=finalrougemax/len(setlistmax)\n",
    "print('\\nmax\\n')\n",
    "printrouge(frmax)\n",
    "\n",
    "setlistmin=[]\n",
    "for i in range(len(predicted)):\n",
    "    setlistmin.append(rouge_min(predicted[i],actual[i]))\n",
    "#print(len(setlistmin))\n",
    "finalrougemin =sum(setlistmin)\n",
    "frmin=finalrougemin/len(setlistmin)\n",
    "print('\\nmin\\n')\n",
    "printrouge(frmin)\n",
    "\n",
    "setlistavg=[]\n",
    "for i in range(len(predicted)):\n",
    "    setlistavg.append(rouge_avg(predicted[i],actual[i]))\n",
    "#print(len(setlistavg))\n",
    "finalrougeavg =sum(setlistavg)\n",
    "fravg=finalrougeavg/len(setlistavg)\n",
    "print('\\navg\\n')\n",
    "printrouge(fravg)"
   ]
  },
  {
   "cell_type": "markdown",
   "metadata": {},
   "source": [
    "## train"
   ]
  },
  {
   "cell_type": "code",
   "execution_count": 28,
   "metadata": {},
   "outputs": [
    {
     "name": "stdout",
     "output_type": "stream",
     "text": [
      "6000 6000\n",
      "\n",
      "BLEU - 1 : 0.494537\n",
      "BLEU - 2 : 0.256992\n",
      "BLEU - 3 : 0.174125\n",
      "BLEU - 4 : 0.078121\n",
      "\n",
      "max\n",
      "\n",
      "rouge-1 f  -->  0.4428219904601973\n",
      "rouge-1 p  -->  0.4604309822394352\n",
      "rouge-1 r  -->  0.4763071546656311\n",
      "rouge-2 f  -->  0.12529932781350103\n",
      "rouge-2 p  -->  0.13017805136040358\n",
      "rouge-2 r  -->  0.1313206692980922\n",
      "rouge-l f  -->  0.40848073998721457\n",
      "rouge-l p  -->  0.4375981036664811\n",
      "rouge-l r  -->  0.4614700406089751\n",
      "\n",
      "min\n",
      "\n",
      "rouge-1 f  -->  0.24857005761853862\n",
      "rouge-1 p  -->  0.25310515723382787\n",
      "rouge-1 r  -->  0.2502646394695779\n",
      "rouge-2 f  -->  0.007451580322882141\n",
      "rouge-2 p  -->  0.008404304410186792\n",
      "rouge-2 r  -->  0.007026106202318364\n",
      "rouge-l f  -->  0.22805973325915205\n",
      "rouge-l p  -->  0.25089175829616417\n",
      "rouge-l r  -->  0.2428154295462068\n",
      "\n",
      "avg\n",
      "\n",
      "rouge-1 f  -->  0.34114799788923883\n",
      "rouge-1 p  -->  0.348283177818913\n",
      "rouge-1 r  -->  0.35618485914642245\n",
      "rouge-2 f  -->  0.05330439356609216\n",
      "rouge-2 p  -->  0.05651046137957992\n",
      "rouge-2 r  -->  0.05428853357620392\n",
      "rouge-l f  -->  0.3138184194372108\n",
      "rouge-l p  -->  0.3369789464756378\n",
      "rouge-l r  -->  0.3446304173713759\n"
     ]
    }
   ],
   "source": [
    "actual=pickle.load(open('ImgCap_V5_VGG/actual_train.pkl','rb'))\n",
    "predicted=pickle.load(open('ImgCap_V5_VGG/predicted_train.pkl','rb'))\n",
    "print(len(actual),len(predicted))\n",
    "print()\n",
    "print('BLEU - 1 : %f' % corpus_bleu(actual,predicted,weights=(1.0,0,0,0)))\n",
    "print('BLEU - 2 : %f' % corpus_bleu(actual,predicted,weights=(0.5,0.5,0,0)))\n",
    "print('BLEU - 3 : %f' % corpus_bleu(actual,predicted,weights=(0.3,0.3,0.3,0)))\n",
    "print('BLEU - 4 : %f' % corpus_bleu(actual,predicted,weights=(0.25,0.25,0.25,0.25)))\n",
    "\n",
    "setlistmax=[]\n",
    "for i in range(len(predicted)):\n",
    "    setlistmax.append(rouge_max(predicted[i],actual[i]))\n",
    "#print(len(setlistmax))\n",
    "finalrougemax =sum(setlistmax)\n",
    "frmax=finalrougemax/len(setlistmax)\n",
    "print('\\nmax\\n')\n",
    "printrouge(frmax)\n",
    "\n",
    "setlistmin=[]\n",
    "for i in range(len(predicted)):\n",
    "    setlistmin.append(rouge_min(predicted[i],actual[i]))\n",
    "#print(len(setlistmin))\n",
    "finalrougemin =sum(setlistmin)\n",
    "frmin=finalrougemin/len(setlistmin)\n",
    "print('\\nmin\\n')\n",
    "printrouge(frmin)\n",
    "\n",
    "setlistavg=[]\n",
    "for i in range(len(predicted)):\n",
    "    setlistavg.append(rouge_avg(predicted[i],actual[i]))\n",
    "#print(len(setlistavg))\n",
    "finalrougeavg =sum(setlistavg)\n",
    "fravg=finalrougeavg/len(setlistavg)\n",
    "print('\\navg\\n')\n",
    "printrouge(fravg)"
   ]
  },
  {
   "cell_type": "code",
   "execution_count": null,
   "metadata": {},
   "outputs": [],
   "source": []
  },
  {
   "cell_type": "code",
   "execution_count": 29,
   "metadata": {
    "scrolled": true
   },
   "outputs": [
    {
     "data": {
      "text/plain": [
       "['In',\n",
       " 'Out',\n",
       " 'Rouge',\n",
       " '_',\n",
       " '_10',\n",
       " '_5',\n",
       " '_7',\n",
       " '_8',\n",
       " '_9',\n",
       " '__',\n",
       " '___',\n",
       " '__builtin__',\n",
       " '__builtins__',\n",
       " '__doc__',\n",
       " '__loader__',\n",
       " '__name__',\n",
       " '__package__',\n",
       " '__spec__',\n",
       " '_dh',\n",
       " '_exit_code',\n",
       " '_i',\n",
       " '_i1',\n",
       " '_i10',\n",
       " '_i11',\n",
       " '_i12',\n",
       " '_i13',\n",
       " '_i14',\n",
       " '_i15',\n",
       " '_i16',\n",
       " '_i17',\n",
       " '_i18',\n",
       " '_i19',\n",
       " '_i2',\n",
       " '_i20',\n",
       " '_i21',\n",
       " '_i22',\n",
       " '_i23',\n",
       " '_i24',\n",
       " '_i25',\n",
       " '_i26',\n",
       " '_i27',\n",
       " '_i28',\n",
       " '_i29',\n",
       " '_i3',\n",
       " '_i4',\n",
       " '_i5',\n",
       " '_i6',\n",
       " '_i7',\n",
       " '_i8',\n",
       " '_i9',\n",
       " '_ih',\n",
       " '_ii',\n",
       " '_iii',\n",
       " '_oh',\n",
       " 'actual',\n",
       " 'corpus_bleu',\n",
       " 'corpus_gleu',\n",
       " 'exit',\n",
       " 'finalrougeavg',\n",
       " 'finalrougemax',\n",
       " 'finalrougemin',\n",
       " 'fravg',\n",
       " 'frmax',\n",
       " 'frmin',\n",
       " 'get_ipython',\n",
       " 'i',\n",
       " 'minmaxavg',\n",
       " 'np',\n",
       " 'pickle',\n",
       " 'predicted',\n",
       " 'printrouge',\n",
       " 'quit',\n",
       " 'rouge_avg',\n",
       " 'rouge_max',\n",
       " 'rouge_min',\n",
       " 'setlistavg',\n",
       " 'setlistmax',\n",
       " 'setlistmin']"
      ]
     },
     "execution_count": 29,
     "metadata": {},
     "output_type": "execute_result"
    }
   ],
   "source": [
    "dir()"
   ]
  },
  {
   "cell_type": "code",
   "execution_count": null,
   "metadata": {},
   "outputs": [],
   "source": []
  }
 ],
 "metadata": {
  "kernelspec": {
   "display_name": "Python 3",
   "language": "python",
   "name": "python3"
  },
  "language_info": {
   "codemirror_mode": {
    "name": "ipython",
    "version": 3
   },
   "file_extension": ".py",
   "mimetype": "text/x-python",
   "name": "python",
   "nbconvert_exporter": "python",
   "pygments_lexer": "ipython3",
   "version": "3.7.1"
  }
 },
 "nbformat": 4,
 "nbformat_minor": 2
}
